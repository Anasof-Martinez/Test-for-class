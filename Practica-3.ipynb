{
 "cells": [
  {
   "cell_type": "markdown",
   "metadata": {},
   "source": [
    "   # Ana Sofía Martínez García\n",
    "   # GitHub: Anasof-Martinez\n",
    "\n"
   ]
  },
  {
   "cell_type": "markdown",
   "metadata": {},
   "source": [
    " **Instrucciones:** Realice un notebook usando jupyter considerando lo siguiente:"
   ]
  },
  {
   "cell_type": "markdown",
   "metadata": {},
   "source": [
    "### Índice\n",
    "\n",
    "* [1. Enteros entre $0$ y $n$](#1.-Enteros-entre-$0$-y-$n$)\n",
    "\n",
    "* [2. Números pares entre $0$ y $n$](#2.-Números-pares-entre-$0$-y-$n$)\n",
    "\n",
    "* [3. Números impares entre $0$ y $n$](#3.-Números-impares-entre-$0$-$n$)\n",
    "\n",
    "* [4. Suma de los primeros $n$ naturales, ***Sin la fórmula de Gauss***](#4.-Suma-de-los-primeros-$n$-naturales,-***Sin-la-fórmula-de-Gauss***)\n",
    "\n",
    "* [5. Primeros $n$ términos de la serie de Fibonacci](#5.-Primeros-$n$-términos-de-la-serie-de-Fibonacci)\n",
    "\n",
    "* [6. Ciclo de números primos](#6.-Ciclo-de-números-primos)\n",
    "\n",
    "* [7. Números primos entre $1$ y $n$](#7.-Números-primos-entre-$1$-y-$n$)\n",
    "\n",
    "* [8. Primos gemelos](#8.-Primos-gemelos)\n",
    "\n",
    "* [9. Factorial del entero $n$](#9.-Factorial-del-entero-$n$)\n",
    "\n",
    "* [10. $n$ cadenas](#10.-$n$-cadenas)\n",
    "\n",
    "\n"
   ]
  },
  {
   "cell_type": "markdown",
   "metadata": {},
   "source": [
    "# 1. Enteros entre $0$ y $n$"
   ]
  },
  {
   "cell_type": "code",
   "execution_count": 250,
   "metadata": {},
   "outputs": [
    {
     "name": "stdout",
     "output_type": "stream",
     "text": [
      "0\n",
      "1\n",
      "2\n",
      "3\n",
      "4\n",
      "5\n",
      "6\n",
      "7\n",
      "8\n",
      "9\n",
      "10\n",
      "11\n",
      "12\n",
      "13\n",
      "14\n",
      "15\n"
     ]
    }
   ],
   "source": [
    "n = 15\n",
    "i = 0\n",
    "a = i\n",
    "while i < n+1:\n",
    "    print (i)\n",
    "    i += 1\n",
    " "
   ]
  },
  {
   "cell_type": "markdown",
   "metadata": {},
   "source": [
    "# 2. Números pares entre $0$ y $n$"
   ]
  },
  {
   "cell_type": "code",
   "execution_count": 251,
   "metadata": {},
   "outputs": [
    {
     "name": "stdout",
     "output_type": "stream",
     "text": [
      "0\n",
      "2\n",
      "4\n",
      "6\n",
      "8\n",
      "10\n",
      "12\n",
      "14\n"
     ]
    }
   ],
   "source": [
    "n = 15\n",
    "i = 0\n",
    "a = i\n",
    "while i < n+1:\n",
    "    print (i)\n",
    "    i += 2"
   ]
  },
  {
   "cell_type": "markdown",
   "metadata": {},
   "source": [
    "# 3. Números impares entre $0$ y $n$"
   ]
  },
  {
   "cell_type": "code",
   "execution_count": 252,
   "metadata": {},
   "outputs": [
    {
     "name": "stdout",
     "output_type": "stream",
     "text": [
      "1\n",
      "3\n",
      "5\n",
      "7\n",
      "9\n",
      "11\n",
      "13\n",
      "15\n"
     ]
    }
   ],
   "source": [
    "n = 15\n",
    "i = 0\n",
    "k = 2*i+1\n",
    "while k < n-1:\n",
    "    k = 2*i+1\n",
    "    i+=1\n",
    "    print(k)"
   ]
  },
  {
   "cell_type": "markdown",
   "metadata": {},
   "source": [
    "# 4. Suma de los primeros $n$ naturales, ***Sin la fórmula de Gauss***"
   ]
  },
  {
   "cell_type": "code",
   "execution_count": 253,
   "metadata": {},
   "outputs": [
    {
     "name": "stdout",
     "output_type": "stream",
     "text": [
      "La suma de los primeros 100 naturales es : 5050\n"
     ]
    }
   ],
   "source": [
    "i = 1\n",
    "n = 100\n",
    "suma = 0\n",
    "\n",
    "while i <= n:\n",
    "    #print('i: ', i, 'suma :',  suma)\n",
    "    suma = suma + i\n",
    "    i += 1\n",
    "\n",
    "print(f'La suma de los primeros {n} naturales es :', suma)"
   ]
  },
  {
   "cell_type": "markdown",
   "metadata": {},
   "source": [
    "# 5. Primeros $n$ términos de la serie de Fibonacci"
   ]
  },
  {
   "cell_type": "code",
   "execution_count": 254,
   "metadata": {},
   "outputs": [],
   "source": [
    "def Fibonacci(n): \n",
    "    n=30\n",
    "    i = 2\n",
    "    a,b = 0,1 \n",
    "     \n",
    "    mi_serie = [a,b] \n",
    "    while i < n: \n",
    "        x=a+b \n",
    "        mi_serie.append(x) \n",
    "        a,b = b,x \n",
    "        i += 1 \n",
    "    return mi_serie\n",
    "        "
   ]
  },
  {
   "cell_type": "code",
   "execution_count": 255,
   "metadata": {
    "scrolled": true
   },
   "outputs": [
    {
     "name": "stdout",
     "output_type": "stream",
     "text": [
      "Si 100= [0, 1, 1, 2, 3, 5, 8, 13, 21, 34, 55, 89, 144, 233, 377, 610, 987, 1597, 2584, 4181, 6765, 10946, 17711, 28657, 46368, 75025, 121393, 196418, 317811, 514229]\n"
     ]
    }
   ],
   "source": [
    "mi_serie=Fibonacci(n)\n",
    "print (f'Si {n}=', mi_serie)"
   ]
  },
  {
   "cell_type": "markdown",
   "metadata": {},
   "source": [
    "# 6. Ciclo de números primos"
   ]
  },
  {
   "cell_type": "code",
   "execution_count": 256,
   "metadata": {},
   "outputs": [
    {
     "name": "stdout",
     "output_type": "stream",
     "text": [
      "¿7 es primo? True\n"
     ]
    }
   ],
   "source": [
    "n = 7\n",
    "i = 2\n",
    "is_prime = True\n",
    "\n",
    "while i < n:\n",
    "    if n%i == 0:\n",
    "        is_prime = False\n",
    "        #print(f'{n} no es primo')\n",
    "        break\n",
    "        \n",
    "    else:\n",
    "        i = i + 1\n",
    "    \n",
    "print(f'¿{n} es primo?', is_prime)"
   ]
  },
  {
   "cell_type": "code",
   "execution_count": 257,
   "metadata": {},
   "outputs": [],
   "source": [
    "def is_prime(n):\n",
    "    i = 2\n",
    "    is_prime = True\n",
    "\n",
    "    while i < n:\n",
    "        if n%i == 0:\n",
    "            is_prime = False\n",
    "            #print(f'{n} no es primo')\n",
    "            break\n",
    "        else:\n",
    "    \n",
    "            i += 1\n",
    "    \n",
    "    print (f'¿El número {n} es primo?',is_prime)\n",
    "    \n"
   ]
  },
  {
   "cell_type": "code",
   "execution_count": 258,
   "metadata": {},
   "outputs": [
    {
     "name": "stdout",
     "output_type": "stream",
     "text": [
      "¿El número 7 es primo? True\n"
     ]
    }
   ],
   "source": [
    "is_prime(n)"
   ]
  },
  {
   "cell_type": "markdown",
   "metadata": {},
   "source": [
    "# 7. Números primos entre $1$ y $n$"
   ]
  },
  {
   "cell_type": "code",
   "execution_count": 259,
   "metadata": {},
   "outputs": [],
   "source": [
    "def primes(z):\n",
    "    \n",
    "    h=2\n",
    "    conjunto = []\n",
    "    for z in range (2, z):\n",
    "        if is_prime(h):\n",
    "            conjunto.append(h) \n",
    "            \n",
    "            \n",
    "        \n",
    "        else:\n",
    "            h+=1\n",
    "            \n",
    "    return (conjunto)\n",
    "        \n",
    "    \n",
    "    print (conjunto)\n",
    "       "
   ]
  },
  {
   "cell_type": "code",
   "execution_count": 260,
   "metadata": {},
   "outputs": [
    {
     "name": "stdout",
     "output_type": "stream",
     "text": [
      "¿El número 2 es primo? True\n",
      "¿El número 3 es primo? True\n",
      "¿El número 4 es primo? False\n",
      "¿El número 5 es primo? True\n",
      "¿El número 6 es primo? False\n",
      "¿El número 7 es primo? True\n",
      "¿El número 8 es primo? False\n"
     ]
    },
    {
     "data": {
      "text/plain": [
       "[]"
      ]
     },
     "execution_count": 260,
     "metadata": {},
     "output_type": "execute_result"
    }
   ],
   "source": [
    "primes(9)\n"
   ]
  }
 ],
 "metadata": {
  "kernelspec": {
   "display_name": "Python 3",
   "language": "python",
   "name": "python3"
  },
  "language_info": {
   "codemirror_mode": {
    "name": "ipython",
    "version": 3
   },
   "file_extension": ".py",
   "mimetype": "text/x-python",
   "name": "python",
   "nbconvert_exporter": "python",
   "pygments_lexer": "ipython3",
   "version": "3.8.3"
  }
 },
 "nbformat": 4,
 "nbformat_minor": 4
}
